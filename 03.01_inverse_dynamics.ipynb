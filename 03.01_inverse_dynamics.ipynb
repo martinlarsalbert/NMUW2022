{
 "cells": [
  {
   "cell_type": "markdown",
   "id": "ae08b6bc-1e9a-43e2-ad1a-85eef04dc6bc",
   "metadata": {},
   "source": [
    "## Inverse dynamics"
   ]
  },
  {
   "cell_type": "code",
   "execution_count": 1,
   "id": "45a4c854-c949-4bc3-80cf-d0d78700fb96",
   "metadata": {
    "tags": [
     "remove_cell"
    ]
   },
   "outputs": [
    {
     "name": "stdout",
     "output_type": "stream",
     "text": [
      "2022-03-28 16:49:48,025 - kedro.io.data_catalog - INFO - Loading data from `vmm_abkowitz` (PickleDataSet)...\n",
      "2022-03-28 16:49:48,197 - kedro.io.data_catalog - INFO - Loading data from `vmm_abkowitz_simple` (PickleDataSet)...\n",
      "2022-03-28 16:49:48,272 - kedro.io.data_catalog - INFO - Loading data from `vmm_martin` (PickleDataSet)...\n",
      "2022-03-28 16:49:48,322 - kedro.io.data_catalog - INFO - Loading data from `vmm_linear` (PickleDataSet)...\n",
      "2022-03-28 16:49:48,359 - kedro.io.data_catalog - INFO - Loading data from `vmm_martins_simple` (PickleDataSet)...\n",
      "2022-03-28 16:49:48,398 - kedro.io.data_catalog - INFO - Loading data from `vmm_abkowitz_expanded` (PickleDataSet)...\n"
     ]
    }
   ],
   "source": [
    "# %load imports.py\n",
    "%load_ext autoreload\n",
    "%autoreload 2\n",
    "%config Completer.use_jedi = False  ## (To fix autocomplete)\n",
    "\n",
    "import pandas as pd\n",
    "from src.models.vmm import ModelSimulator\n",
    "import matplotlib.pyplot as plt\n",
    "import matplotlib\n",
    "plt.style.use('presentation')\n",
    "matplotlib.rcParams[\"xtick.labelsize\"] = 16\n",
    "from src.visualization.plot import track_plots, plot, captive_plot\n",
    "import kedro\n",
    "import numpy as np\n",
    "import os.path\n",
    "import anyconfig\n",
    "\n",
    "\n",
    "from myst_nb import glue\n",
    "from src.symbols import *\n",
    "import src.symbols as symbols\n",
    "from src.system_equations import *\n",
    "\n",
    "from IPython.display import display, Math, Latex, Markdown\n",
    "from sympy.physics.vector.printing import vpprint, vlatex\n",
    "\n",
    "from src.models.regression import MotionRegression\n",
    "\n",
    "from src.parameters import df_parameters\n",
    "from src.substitute_dynamic_symbols import run\n",
    "from src.models.diff_eq_to_matrix import DiffEqToMatrix\n",
    "p = df_parameters[\"symbol\"]\n",
    "import statsmodels.api as sm\n",
    "\n",
    "# Read configs:\n",
    "conf_path = os.path.join(\"../../conf/base/\")\n",
    "runs_globals_path = os.path.join(\n",
    "    conf_path,\n",
    "    \"runs_globals.yml\",\n",
    ")\n",
    "\n",
    "runs_globals = anyconfig.load(runs_globals_path)\n",
    "model_test_ids = runs_globals[\"model_test_ids\"]\n",
    "\n",
    "join_globals_path = os.path.join(\n",
    "    conf_path,\n",
    "    \"join_globals.yml\",\n",
    ")\n",
    "\n",
    "joins = runs_globals[\"joins\"]\n",
    "join_runs_dict = anyconfig.load(join_globals_path)\n",
    "\n",
    "globals_path = os.path.join(\n",
    "    conf_path,\n",
    "    \"globals.yml\",\n",
    ")\n",
    "global_variables = anyconfig.load(globals_path)\n",
    "\n",
    "\n",
    "\n",
    "vmm_names = global_variables[\"vmms\"]\n",
    "only_joined = global_variables[\n",
    "    \"only_joined\"\n",
    "]  # (regress/predict with only models from joined runs)S\n",
    "\n",
    "vmms = {}\n",
    "for vmm_name in vmm_names:\n",
    "    vmms[vmm_name] = catalog.load(vmm_name)\n"
   ]
  },
  {
   "cell_type": "code",
   "execution_count": 2,
   "id": "7a64e8cd-e6f5-4adf-b562-9bb95e0ff1da",
   "metadata": {
    "tags": [
     "remove_cell"
    ]
   },
   "outputs": [
    {
     "name": "stdout",
     "output_type": "stream",
     "text": [
      "2022-03-28 16:49:48,958 - kedro.framework.session.store - INFO - `read()` not implemented for `SQLiteStore`. Assuming empty store.\n",
      "2022-03-28 16:49:50,577 - root - INFO - ** Kedro project wPCC_pipeline\n",
      "2022-03-28 16:49:50,579 - root - INFO - Defined global variable `context`, `session`, `catalog` and `pipelines`\n",
      "2022-03-28 16:49:50,589 - root - INFO - Registered line magic `run_viz`\n",
      "2022-03-28 16:49:50,619 - kedro.io.data_catalog - INFO - Loading data from `added_masses` (YAMLDataSet)...\n",
      "2022-03-28 16:49:50,621 - kedro.io.data_catalog - INFO - Loading data from `vmm_martins_simple.motion_regression.joined.model` (PickleDataSet)...\n",
      "2022-03-28 16:49:50,628 - kedro.io.data_catalog - INFO - Loading data from `initial_parameters` (YAMLDataSet)...\n"
     ]
    },
    {
     "name": "stderr",
     "output_type": "stream",
     "text": [
      "e:\\dev\\wpcc\\src\\models\\regression.py:106: DeprecationWarning: The default dtype for empty Series will be 'object' instead of 'float64' in a future version. Specify a dtype explicitly to silence this warning.\n",
      "  self.exclude_parameters = pd.Series(exclude_parameters)\n",
      "<string>:2: VisibleDeprecationWarning: Creating an ndarray from ragged nested sequences (which is a list-or-tuple of lists-or-tuples-or ndarrays with different lengths or shapes) is deprecated. If you meant to do this, you must specify 'dtype=object' when creating the ndarray.\n",
      "e:\\dev\\wpcc\\src\\models\\regression.py:470: DeprecationWarning: The default dtype for empty Series will be 'object' instead of 'float64' in a future version. Specify a dtype explicitly to silence this warning.\n",
      "  pd.Series({key: 0 for key in self.connected_parameters_Y.keys()})\n",
      "e:\\dev\\wpcc\\src\\models\\regression.py:484: DeprecationWarning: The default dtype for empty Series will be 'object' instead of 'float64' in a future version. Specify a dtype explicitly to silence this warning.\n",
      "  self.std = pd.Series()\n"
     ]
    }
   ],
   "source": [
    "%reload_kedro\n",
    "vmm_name = 'vmm_martins_simple'\n",
    "vmm = vmms[vmm_name]\n",
    "data = pd.read_csv('example.csv', index_col=0)\n",
    "added_masses = catalog.load(\"added_masses\")\n",
    "model = catalog.load(f\"{ vmm_name}.motion_regression.joined.model\")\n",
    "initial_parameters = catalog.load(\"initial_parameters\")\n",
    "model.parameters=initial_parameters\n",
    "\n",
    "regression = MotionRegression(\n",
    "        vmm=vmm,\n",
    "        data=data,\n",
    "        added_masses=added_masses,\n",
    "        prime_system=model.prime_system,\n",
    "        ship_parameters=model.ship_parameters,\n",
    "        #exclude_parameters={\"Xthrust\": 1.0, \"Ydelta\": 1},\n",
    "    )"
   ]
  },
  {
   "cell_type": "code",
   "execution_count": 3,
   "id": "0e7e6e84-9635-47a8-8bd2-ea740f8e7709",
   "metadata": {
    "tags": [
     "remove_input"
    ]
   },
   "outputs": [
    {
     "data": {
      "text/latex": [
       "$\\displaystyle \\left[\\begin{matrix}- X_{\\dot{u}} + m & 0 & 0\\\\0 & - Y_{\\dot{v}} + m & - Y_{\\dot{r}} + m x_{G}\\\\0 & - N_{\\dot{v}} + m x_{G} & I_{z} - N_{\\dot{r}}\\end{matrix}\\right] \\left[\\begin{matrix}\\dot{u}\\\\\\dot{v}\\\\\\dot{r}\\end{matrix}\\right] = \\left[\\begin{matrix}m r^{2} x_{G} + m r v + \\operatorname{X_{D}}{\\left(u,v,r,\\delta,thrust \\right)}\\\\- m r u + \\operatorname{Y_{D}}{\\left(u,v,r,\\delta,thrust \\right)}\\\\- m r u x_{G} + \\operatorname{N_{D}}{\\left(u,v,r,\\delta,thrust \\right)}\\end{matrix}\\right]$"
      ],
      "text/plain": [
       "Eq(Matrix([\n",
       "[-X_{\\dot{u}} + m,                    0,                    0],\n",
       "[               0,     -Y_{\\dot{v}} + m, -Y_{\\dot{r}} + m*x_G],\n",
       "[               0, -N_{\\dot{v}} + m*x_G,    I_z - N_{\\dot{r}}]])*Matrix([\n",
       "[\\dot{u}],\n",
       "[\\dot{v}],\n",
       "[\\dot{r}]]), Matrix([\n",
       "[m*r**2*x_G + m*r*v + X_D(u, v, r, delta, thrust)],\n",
       "[            -m*r*u + Y_D(u, v, r, delta, thrust)],\n",
       "[        -m*r*u*x_G + N_D(u, v, r, delta, thrust)]]))"
      ]
     },
     "execution_count": 3,
     "metadata": {},
     "output_type": "execute_result"
    }
   ],
   "source": [
    "eq_system"
   ]
  },
  {
   "cell_type": "code",
   "execution_count": 4,
   "id": "99796bc3-d3e7-4d76-9c62-4dd5dd97ee19",
   "metadata": {
    "tags": [
     "remove_input"
    ]
   },
   "outputs": [
    {
     "data": {
      "text/latex": [
       "$\\displaystyle \\operatorname{X_{D}}{\\left(u,v,r,\\delta,thrust \\right)} = - X_{\\dot{u}} \\dot{u} + \\dot{u} m - m r^{2} x_{G} - m r v$"
      ],
      "text/plain": [
       "Eq(X_D(u, v, r, delta, thrust), -X_{\\dot{u}}*\\dot{u} + \\dot{u}*m - m*r**2*x_G - m*r*v)"
      ]
     },
     "metadata": {},
     "output_type": "display_data"
    },
    {
     "data": {
      "text/latex": [
       "$\\displaystyle \\operatorname{Y_{D}}{\\left(u,v,r,\\delta,thrust \\right)} = - Y_{\\dot{r}} \\dot{r} - Y_{\\dot{v}} \\dot{v} + \\dot{r} m x_{G} + \\dot{v} m + m r u$"
      ],
      "text/plain": [
       "Eq(Y_D(u, v, r, delta, thrust), -Y_{\\dot{r}}*\\dot{r} - Y_{\\dot{v}}*\\dot{v} + \\dot{r}*m*x_G + \\dot{v}*m + m*r*u)"
      ]
     },
     "metadata": {},
     "output_type": "display_data"
    },
    {
     "data": {
      "text/latex": [
       "$\\displaystyle \\operatorname{N_{D}}{\\left(u,v,r,\\delta,thrust \\right)} = I_{z} \\dot{r} - N_{\\dot{r}} \\dot{r} - N_{\\dot{v}} \\dot{v} + \\dot{v} m x_{G} + m r u x_{G}$"
      ],
      "text/plain": [
       "Eq(N_D(u, v, r, delta, thrust), I_z*\\dot{r} - N_{\\dot{r}}*\\dot{r} - N_{\\dot{v}}*\\dot{v} + \\dot{v}*m*x_G + m*r*u*x_G)"
      ]
     },
     "metadata": {},
     "output_type": "display_data"
    }
   ],
   "source": [
    "solution = sp.solve(eq_system.doit(),X_D,Y_D,N_D, dict=True)[0]\n",
    "\n",
    "eq_XD = sp.Eq(X_D, solution[X_D])\n",
    "eq_YD = sp.Eq(Y_D, solution[Y_D])\n",
    "eq_ND = sp.Eq(N_D, solution[N_D])\n",
    "\n",
    "display(eq_XD)\n",
    "display(eq_YD)\n",
    "display(eq_ND)\n",
    "\n"
   ]
  },
  {
   "cell_type": "code",
   "execution_count": 5,
   "id": "de7510bf-80d0-4ac8-a9ab-7e3cfdb8cd22",
   "metadata": {
    "tags": [
     "remove_input"
    ]
   },
   "outputs": [
    {
     "data": {
      "text/latex": [
       "$\\displaystyle \\operatorname{X_{D}}{\\left(u,v,r,\\delta,thrust \\right)} = X_{deltadelta} \\delta^{2} + X_{rr} r^{2} + X_{thrust} thrust + X_{u} u + X_{vr} r v$"
      ],
      "text/plain": [
       "Eq(X_D(u, v, r, delta, thrust), X_{deltadelta}*delta**2 + X_{rr}*r**2 + X_{thrust}*thrust + X_{u}*u + X_{vr}*r*v)"
      ]
     },
     "metadata": {},
     "output_type": "display_data"
    },
    {
     "data": {
      "text/latex": [
       "$\\displaystyle \\operatorname{Y_{D}}{\\left(u,v,r,\\delta,thrust \\right)} = Y_{delta} \\delta + Y_{r} r + Y_{thrustdelta} \\delta thrust + Y_{ur} r u + Y_{u} u + Y_{v} v$"
      ],
      "text/plain": [
       "Eq(Y_D(u, v, r, delta, thrust), Y_{delta}*delta + Y_{r}*r + Y_{thrustdelta}*delta*thrust + Y_{ur}*r*u + Y_{u}*u + Y_{v}*v)"
      ]
     },
     "metadata": {},
     "output_type": "display_data"
    },
    {
     "data": {
      "text/latex": [
       "$\\displaystyle \\operatorname{N_{D}}{\\left(u,v,r,\\delta,thrust \\right)} = N_{delta} \\delta + N_{r} r + N_{thrustdelta} \\delta thrust + N_{ur} r u + N_{u} u + N_{v} v$"
      ],
      "text/plain": [
       "Eq(N_D(u, v, r, delta, thrust), N_{delta}*delta + N_{r}*r + N_{thrustdelta}*delta*thrust + N_{ur}*r*u + N_{u}*u + N_{v}*v)"
      ]
     },
     "metadata": {},
     "output_type": "display_data"
    }
   ],
   "source": [
    "display(vmm.X_qs_eq)\n",
    "display(vmm.Y_qs_eq)\n",
    "display(vmm.N_qs_eq)\n"
   ]
  },
  {
   "cell_type": "code",
   "execution_count": 6,
   "id": "b13f0a49-a260-4ebf-8f20-e5f38bcaa253",
   "metadata": {
    "tags": [
     "remove_cell"
    ]
   },
   "outputs": [],
   "source": [
    "subs = [(value, key ) for key,value in p.items()]\n",
    "subs.append((u1d,'u1d'))\n",
    "subs.append((v1d,'v1d'))\n",
    "subs.append((r1d,'r1d'))\n",
    "\n",
    "eq = eq_XD.subs(subs)\n",
    "lambda_X_D = sp.lambdify(list(eq.rhs.free_symbols), eq.rhs)\n",
    "\n",
    "eq = eq_YD.subs(subs)\n",
    "lambda_Y_D = sp.lambdify(list(eq.rhs.free_symbols), eq.rhs)\n",
    "\n",
    "eq = eq_ND.subs(subs)\n",
    "lambda_N_D = sp.lambdify(list(eq.rhs.free_symbols), eq.rhs)"
   ]
  },
  {
   "cell_type": "code",
   "execution_count": 7,
   "id": "5330193e-0186-40d3-a437-dc7fdc22b0e9",
   "metadata": {
    "tags": [
     "remove_cell"
    ]
   },
   "outputs": [],
   "source": [
    "df_captive = data.copy()\n",
    "df_captive_prime = model.prime_system.prime(df_captive, U=data['U'])\n",
    "\n",
    "df_captive_prime['fx'] = run(lambda_X_D, \n",
    "                             inputs=df_captive_prime, \n",
    "                             **model.ship_parameters_prime, \n",
    "                             **added_masses)\n",
    "\n",
    "df_captive_prime['fy'] = run(lambda_Y_D, \n",
    "                             inputs=df_captive_prime, \n",
    "                             **model.ship_parameters_prime, \n",
    "                             **added_masses)\n",
    "\n",
    "df_captive_prime['mz'] = run(lambda_N_D, \n",
    "                             inputs=df_captive_prime, \n",
    "                             **model.ship_parameters_prime, \n",
    "                             **added_masses)\n"
   ]
  },
  {
   "cell_type": "code",
   "execution_count": 8,
   "id": "37b99de9-cdbc-4ddf-a416-19e15e8ed0cb",
   "metadata": {
    "tags": [
     "remove_cell"
    ]
   },
   "outputs": [
    {
     "name": "stderr",
     "output_type": "stream",
     "text": [
      "e:\\dev\\wpcc\\src\\models\\diff_eq_to_matrix.py:63: DeprecationWarning: The default dtype for empty Series will be 'object' instead of 'float64' in a future version. Specify a dtype explicitly to silence this warning.\n",
      "  self.exclude_parameters = pd.Series(exclude_parameters)\n"
     ]
    }
   ],
   "source": [
    "Y_D_ = sp.symbols('Y_D')\n",
    "eq = vmm.Y_qs_eq.subs(Y_D,Y_D_)\n",
    "diff_eq_Y = DiffEqToMatrix(eq, label=Y_D_, base_features=[u,v,r,delta,thrust])\n",
    "\n",
    "X_Y,y_Y = diff_eq_Y.calculate_features_and_label(data=df_captive_prime, y=df_captive_prime['fy'])\n",
    "\n",
    "model_Y = sm.OLS(y_Y, X_Y)\n",
    "result_Y = model_Y.fit()"
   ]
  },
  {
   "cell_type": "code",
   "execution_count": 9,
   "id": "a1620c7b-8bb2-4215-8d4d-e7da96af6240",
   "metadata": {
    "tags": [
     "remove_cell"
    ]
   },
   "outputs": [],
   "source": [
    "N_D_ = sp.symbols('N_D')\n",
    "eq = vmm.N_qs_eq.subs(N_D,N_D_)\n",
    "diff_eq_N = DiffEqToMatrix(eq, label=N_D_, base_features=[u,v,r,delta,thrust])\n",
    "\n",
    "X_N,y_N = diff_eq_N.calculate_features_and_label(data=df_captive_prime, y=df_captive_prime['mz'])\n",
    "\n",
    "model_N = sm.OLS(y_N, X_N)\n",
    "result_N = model_N.fit()"
   ]
  },
  {
   "cell_type": "code",
   "execution_count": 10,
   "id": "c1556c2c-ff30-4c78-ac99-93f20d14aec1",
   "metadata": {
    "tags": [
     "remove_cell"
    ]
   },
   "outputs": [],
   "source": [
    "X_D_ = sp.symbols('X_D')\n",
    "eq = vmm.X_qs_eq.subs(X_D,X_D_)\n",
    "diff_eq_X = DiffEqToMatrix(eq, label=X_D_, base_features=[u,v,r,delta,thrust], exclude_parameters={'Xthrust':model.parameters['Xthrust']})\n",
    "\n",
    "X_X,y_X = diff_eq_X.calculate_features_and_label(data=df_captive_prime, y=df_captive_prime['fx'])\n",
    "\n",
    "model_X = sm.OLS(y_X, X_X)\n",
    "result_X = model_X.fit()"
   ]
  },
  {
   "cell_type": "code",
   "execution_count": 11,
   "id": "ab2efa14-76d8-4a0d-91a4-c1af146e495d",
   "metadata": {
    "tags": [
     "remove_cell"
    ]
   },
   "outputs": [],
   "source": [
    "df_parameters_X = pd.DataFrame(pd.Series({key:value for key,value in model.parameters.items() if key[0]=='X' and value !=0}, name='real'))\n",
    "df_parameters_X['regression'] = result_X.params\n",
    "df_parameters_X.dropna(inplace=True)\n",
    "df_parameters_X.index = p[df_parameters_X.index].apply(lambda x: \"$%s$\" % str(x).replace('delta',r'\\delta'))\n",
    "df_parameters_X.index.name = ''\n",
    "\n",
    "df_parameters_Y = pd.DataFrame(pd.Series({key:value for key,value in model.parameters.items() if key[0]=='Y' and value !=0}, name='real'))\n",
    "df_parameters_Y['regression'] = result_Y.params\n",
    "df_parameters_Y.dropna(inplace=True)\n",
    "df_parameters_Y.index = p[df_parameters_Y.index].apply(lambda x: \"$%s$\" % str(x).replace('delta',r'\\delta').replace('thrust','T'))\n",
    "df_parameters_Y.index.name = ''\n",
    "\n",
    "\n",
    "\n",
    "df_parameters_N = pd.DataFrame(pd.Series({key:value for key,value in model.parameters.items() if key[0]=='N' and value !=0}, name='real'))\n",
    "df_parameters_N['regression'] = result_N.params\n",
    "df_parameters_N.dropna(inplace=True)\n",
    "df_parameters_N.index = p[df_parameters_N.index].apply(lambda x: \"$%s$\" % str(x).replace('delta',r'\\delta').replace('thrust','T'))\n",
    "df_parameters_N.index.name = ''\n"
   ]
  },
  {
   "cell_type": "code",
   "execution_count": 12,
   "id": "936fe4ad-36d9-4275-be9a-574374497653",
   "metadata": {
    "tags": [
     "remove_input"
    ]
   },
   "outputs": [
    {
     "data": {
      "image/png": "[encoded data removed]",
      "text/plain": [
       "<Figure size 2400x1500 with 3 Axes>"
      ]
     },
     "metadata": {
      "needs_background": "dark"
     },
     "output_type": "display_data"
    }
   ],
   "source": [
    "fig,axes=plt.subplots(ncols=3)\n",
    "ax=axes[0]\n",
    "df_parameters_X.plot.bar(ax=ax)\n",
    "ax=axes[1]\n",
    "df_parameters_Y.plot.bar(ax=ax)\n",
    "ax.get_legend().set_visible(False)\n",
    "ax=axes[2]\n",
    "df_parameters_N.plot.bar(ax=ax)\n",
    "plt.tight_layout()\n",
    "ax.get_legend().set_visible(False)\n"
   ]
  },
  {
   "cell_type": "code",
   "execution_count": null,
   "id": "749a1123-faf9-48c0-a625-9a8e585c4831",
   "metadata": {},
   "outputs": [],
   "source": []
  },
  {
   "cell_type": "code",
   "execution_count": null,
   "id": "2c8cf106-e571-41b4-b518-dc53f5e9e881",
   "metadata": {},
   "outputs": [],
   "source": []
  },
  {
   "cell_type": "code",
   "execution_count": null,
   "id": "bd8fa096-6750-4a92-b758-2cacc6169bb8",
   "metadata": {},
   "outputs": [],
   "source": []
  },
  {
   "cell_type": "code",
   "execution_count": null,
   "id": "787df3cf-88c2-4659-be7d-69054bd9bfab",
   "metadata": {},
   "outputs": [],
   "source": []
  },
  {
   "cell_type": "code",
   "execution_count": null,
   "id": "1d2e18bf-fc40-49ca-b3e8-45d257bb021e",
   "metadata": {},
   "outputs": [],
   "source": []
  },
  {
   "cell_type": "code",
   "execution_count": null,
   "id": "c4de85fc-3d32-4622-ae8e-baf3fe8edecf",
   "metadata": {},
   "outputs": [],
   "source": []
  }
 ],
 "metadata": {
  "kernelspec": {
   "display_name": "wPCC_pipeline",
   "language": "python",
   "name": "python3"
  },
  "language_info": {
   "codemirror_mode": {
    "name": "ipython",
    "version": 3
   },
   "file_extension": ".py",
   "mimetype": "text/x-python",
   "name": "python",
   "nbconvert_exporter": "python",
   "pygments_lexer": "ipython3",
   "version": "3.7.9"
  }
 },
 "nbformat": 4,
 "nbformat_minor": 5
}
